{
 "cells": [
  {
   "cell_type": "code",
   "execution_count": 1,
   "metadata": {},
   "outputs": [],
   "source": [
    "import binpacking\n",
    "import matplotlib.pyplot as plt\n",
    "\n",
    "# https://towardsdatascience.com/4-steps-to-easily-allocate-resources-with-python-bin-packing-5933fb8e53a9"
   ]
  },
  {
   "cell_type": "code",
   "execution_count": 2,
   "metadata": {},
   "outputs": [],
   "source": [
    "# Number of desidered equal balanced bins\n",
    "numberOfBins = 6\n",
    "\n",
    "# Your dictionary of Resources:\n",
    "#   - Key: Resource name\n",
    "#   - Value: Resource contribution value\n",
    "resources = {\n",
    "    \"A\" : 5, \"B\" : 5, \"C\" : 3, \"D\" : 4, \n",
    "    \"E\" : 4, \"F\" : 1, \"G\" : 4, \"H\" : 5, \n",
    "    \"I\" : 4, \"L\" : 3, \"M\" : 3, \"N\" : 4,\n",
    "    \"O\" : 3, \"P\" : 2, \"Q\" : 3, \"R\" : 1,\n",
    "    \"S\" : 5, \"T\" : 2, \"U\" : 5, \"V\" : 3,\n",
    "    \"Z\" : 1,\n",
    "}"
   ]
  },
  {
   "cell_type": "code",
   "execution_count": 13,
   "metadata": {},
   "outputs": [
    {
     "name": "stdout",
     "output_type": "stream",
     "text": [
      "[[5, 5], [5, 5], [5, 4, 1], [4, 4, 2], [4, 4, 2], [3, 3, 3, 1], [3, 3, 3, 1]]\n"
     ]
    }
   ],
   "source": [
    "groups = binpacking.to_constant_bin_number(resources, numberOfBins)\n",
    "# print(groups)\n",
    "\n",
    "\n",
    "cuts = list(resources.values())\n",
    "cuts_list = binpacking.to_constant_volume(cuts, 10)\n",
    "print(cuts_list)\n",
    "\n",
    "# prints:\n",
    "# [\n",
    "#   {'A': 5, 'E': 4, 'Q': 3},\n",
    "#   {'U': 5, 'G': 4, 'P': 2, 'F': 1},\n",
    "#   {'B': 5, 'N': 4, 'T': 2, 'R': 1},\n",
    "#   {'S': 5, 'C': 3, 'L': 3, 'Z': 1},\n",
    "#   {'H': 5, 'M': 3, 'V': 3},\n",
    "#   {'I': 4, 'D': 4, 'O': 3}\n",
    "# ]"
   ]
  },
  {
   "cell_type": "code",
   "execution_count": 4,
   "metadata": {},
   "outputs": [
    {
     "name": "stdout",
     "output_type": "stream",
     "text": [
      "[['A', 'G', 'V'], ['B', 'I', 'P', 'F'], ['H', 'N', 'T', 'R'], ['S', 'C', 'M', 'Z'], ['U', 'L', 'O'], ['D', 'E', 'Q']]\n"
     ]
    }
   ],
   "source": [
    "resourcesPerGroups = [list(group.keys()) for group in groups]\n",
    "\n",
    "print(resourcesPerGroups)\n",
    "# prints\n",
    "# [\n",
    "#  ['A', 'E', 'Q'],\n",
    "#  ['U', 'G', 'P', 'F'],\n",
    "#  ['B', 'N', 'T', 'R'],\n",
    "#  ['S', 'C', 'L', 'Z'],\n",
    "#  ['H', 'M', 'V'],\n",
    "#  ['I', 'D', 'O']\n",
    "#]"
   ]
  },
  {
   "cell_type": "code",
   "execution_count": 5,
   "metadata": {},
   "outputs": [],
   "source": [
    "# Ideal average desired value \n",
    "idealValue = sum(resources.values()) / numberOfBins    #    11.666\n",
    "\n",
    "# Value of the groups obtained\n",
    "# realValues = [sum(group.values()) for group in groups]\n",
    "groupValues = [sum(group.values()) for group in groups]"
   ]
  },
  {
   "cell_type": "code",
   "execution_count": 6,
   "metadata": {},
   "outputs": [
    {
     "name": "stderr",
     "output_type": "stream",
     "text": [
      "/tmp/ipykernel_3091/1482829885.py:9: UserWarning: FixedFormatter should only be used together with FixedLocator\n",
      "  ax.set_xticklabels(\" 123456 \")\n"
     ]
    },
    {
     "data": {
      "image/png": "[encoded data removed]",
      "text/plain": [
       "<Figure size 1600x600 with 1 Axes>"
      ]
     },
     "metadata": {},
     "output_type": "display_data"
    }
   ],
   "source": [
    "fig, ax = plt.subplots(1, 1, figsize = (16,6))\n",
    "\n",
    "# Plots\n",
    "ax.bar(x = range(numberOfBins), height = groupValues, color=\"#408090\")\n",
    "ax.hlines(idealValue, -1, numberOfBins, colors=\"#995050\", linewidths=5)\n",
    "\n",
    "# Style\n",
    "ax.set_xlim(-1,numberOfBins); ax.set_ylim(0,max(groupValues)+2)\n",
    "ax.set_xticklabels(\" 123456 \")\n",
    "ax.set_xlabel(\"Groups\")\n",
    "ax.set_ylabel(\"Weight/Value\")\n",
    "\n",
    "plt.show()"
   ]
  }
 ],
 "metadata": {
  "kernelspec": {
   "display_name": "Python 3.9.2 ('venv': venv)",
   "language": "python",
   "name": "python3"
  },
  "language_info": {
   "codemirror_mode": {
    "name": "ipython",
    "version": 3
   },
   "file_extension": ".py",
   "mimetype": "text/x-python",
   "name": "python",
   "nbconvert_exporter": "python",
   "pygments_lexer": "ipython3",
   "version": "3.9.2"
  },
  "orig_nbformat": 4,
  "vscode": {
   "interpreter": {
    "hash": "69325bb78ab1fde1148f1fef6dd99e8ed4dff7f9b667fca8511b0c6f8c33bcd4"
   }
  }
 },
 "nbformat": 4,
 "nbformat_minor": 2
}
